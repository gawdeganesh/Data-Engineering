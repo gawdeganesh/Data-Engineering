{
 "cells": [
  {
   "cell_type": "code",
   "execution_count": 18,
   "metadata": {},
   "outputs": [],
   "source": [
    "from pyspark.sql import *\n",
    "from pyspark.sql.types import *\n",
    "import os\n",
    "\n",
    "spark = SparkSession.builder.appName(\"read csv\").getOrCreate()"
   ]
  },
  {
   "cell_type": "code",
   "execution_count": 11,
   "metadata": {},
   "outputs": [
    {
     "name": "stdout",
     "output_type": "stream",
     "text": [
      "root\n",
      " |-- customer_id: string (nullable = true)\n",
      " |-- customer_name: string (nullable = true)\n",
      " |-- customer_phone: string (nullable = true)\n",
      " |-- customer_email: string (nullable = true)\n",
      " |-- other_customer_details: string (nullable = true)\n",
      "\n"
     ]
    }
   ],
   "source": [
    "customer_data_df = spark.read.format(\"csv\")\\\n",
    "                .option(\"header\", \"true\")\\\n",
    "                .option(\"inferschema\", \"false\")\\\n",
    "                .option(\"mode\", \"PERMISSIVE\")\\\n",
    "                .load('/Users/nightfury/Git/Pyspark Practice/data/customers_data.csv')\n",
    "\n",
    "customer_data_df.printSchema()"
   ]
  },
  {
   "cell_type": "code",
   "execution_count": 27,
   "metadata": {},
   "outputs": [],
   "source": [
    "customer_schema = StructType([\n",
    "        StructField(\"customer_id\" , IntegerType(), True),\n",
    "        StructField(\"customer_name\" , StringType(), True),\n",
    "        StructField(\"customer_phone\" , StringType(), True),\n",
    "        StructField(\"customer_email\" , StringType(), True),\n",
    "        StructField(\"other_customer_details\" , StringType(), True),\n",
    "        StructField(\"_corrupt_record\", StringType(), True)\n",
    "])"
   ]
  },
  {
   "cell_type": "code",
   "execution_count": 34,
   "metadata": {},
   "outputs": [
    {
     "name": "stdout",
     "output_type": "stream",
     "text": [
      "+-----------+-----------------+----------------------+-------------------------+---------------------------------------------------------------------------------------------------------------------------------------------------------------------------------+-------------------------------------------------------------------------------------------------------------------------------+\n",
      "|customer_id|customer_name    |customer_phone        |customer_email           |other_customer_details                                                                                                                                                           |_corrupt_record                                                                                                                |\n",
      "+-----------+-----------------+----------------------+-------------------------+---------------------------------------------------------------------------------------------------------------------------------------------------------------------------------+-------------------------------------------------------------------------------------------------------------------------------+\n",
      "|1          |Lisa Whitaker    |001-745-389-6183x25502|jillwalker@example.com   |Affect feel test fire public else. Rule admit single wall style couple not. Why purpose result responsibility student.                                                           |NULL                                                                                                                           |\n",
      "|2          |Jose Poole       |(398)852-7646x875     |maygerald@example.com    |They find feeling media. Physical give idea a your thank.                                                                                                                        |NULL                                                                                                                           |\n",
      "|NULL       |NULL             |NULL                  |NULL                     |NULL                                                                                                                                                                             |Hour prove nice by daughter south. Well structure outside lose mean knowledge kitchen. Wind follow light nothing whole course.\"|\n",
      "|3          |Justin Townsend  |672.989.1493x061      |stephengarza@example.org |Yourself image explain moment understand recently occur week. Idea media need value travel.                                                                                      |NULL                                                                                                                           |\n",
      "|4          |Suzanne Collier  |7565832433            |shanegarcia@example.net  |Affect vote modern once none rock. Threat interest agency onto stock.                                                                                                            |NULL                                                                                                                           |\n",
      "|NULL       |NULL             |NULL                  |NULL                     |NULL                                                                                                                                                                             |Oil today big too a when. Serve store heavy. Type hotel any agree decide market.\"                                              |\n",
      "|5          |Kevin Ortiz      |001-527-332-2756x08078|danieljavier@example.com |Sister water whose reveal. Practice guess hundred create look debate.                                                                                                            |NULL                                                                                                                           |\n",
      "|6          |Rebecca Young    |592-215-9592          |grimesalex@example.org   |Student television bill who attack. Herself suffer no but. Possible article action bring guess degree standard.                                                                  |NULL                                                                                                                           |\n",
      "|NULL       |NULL             |NULL                  |NULL                     |NULL                                                                                                                                                                             |Month place develop later. Education whatever against. College condition call nor view.\"                                       |\n",
      "|7          |Patrick Singh    |(618)668-1372         |joycewhite@example.net   |Write office against girl none matter. Rather look front later statement enter religious. Under treat sit significant same. Hotel word it sea.                                   |NULL                                                                                                                           |\n",
      "|8          |Corey Rogers     |559.203.3384          |lindsaypace@example.com  |Important with ok wrong exactly detail. Question family parent open evidence. Leg item human wait color heart animal large.                                                      |NULL                                                                                                                           |\n",
      "|9          |Sarah Savage     |+1-958-226-5650x7008  |uhanna@example.com       |Follow news perhaps development way mind two my. International similar food history interesting. Above each base various decade no.                                              |NULL                                                                                                                           |\n",
      "|10         |Ashley Williams  |(243)609-6641x076     |alambert@example.org     |Me professor short let begin. By collection occur child attorney audience follow. If none consumer radio six then. Before hope pressure make.                                    |NULL                                                                                                                           |\n",
      "|11         |Mr. Casey Webster|(722)441-3487x125     |hammondrodney@example.org|Trouble eat it statement. Community despite to will our member challenge. Station newspaper worker coach debate similar.                                                         |NULL                                                                                                                           |\n",
      "|12         |Kimberly Miller  |220-824-0009          |wbaker@example.net       |Raise write forward us staff team. Cause last truth experience skill approach. Throughout itself shoulder late deal exist. Difference share author consider during pay let guess.|NULL                                                                                                                           |\n",
      "|13         |Tammy Johnston   |001-840-903-1494x828  |ncampbell@example.net    |Especially finally contain I. Me decade country soon adult. Floor cause against face.                                                                                            |NULL                                                                                                                           |\n",
      "|NULL       |NULL             |NULL                  |NULL                     |NULL                                                                                                                                                                             |Pretty guy machine story. Director black or right central.\"                                                                    |\n",
      "|14         |James Lane       |582-423-7546x9516     |steven94@example.com     |Success such accept poor need. Father country pick. Feeling concern military worry yard star.                                                                                    |NULL                                                                                                                           |\n",
      "|NULL       |NULL             |NULL                  |NULL                     |NULL                                                                                                                                                                             |Present project age of range hotel resource. Response something mind operation.\"                                               |\n",
      "|15         |Richard Velasquez|544-592-3734          |sellerstrevor@example.com|Focus memory guess hour. Hand chair believe defense already.                                                                                                                     |NULL                                                                                                                           |\n",
      "+-----------+-----------------+----------------------+-------------------------+---------------------------------------------------------------------------------------------------------------------------------------------------------------------------------+-------------------------------------------------------------------------------------------------------------------------------+\n",
      "only showing top 20 rows\n",
      "\n"
     ]
    }
   ],
   "source": [
    "customer_data_df = spark.read.format(\"csv\")\\\n",
    "                .option(\"header\", \"true\")\\\n",
    "                .schema(customer_schema)\\\n",
    "                .option(\"badRecordsPath\", \"/Users/nightfury/Git/Pyspark Practice/bad_records\")\\\n",
    "                .load('/Users/nightfury/Git/Pyspark Practice/data/customers_data.csv')\n",
    "\n",
    "customer_data_df.show(truncate=False)\n"
   ]
  },
  {
   "cell_type": "code",
   "execution_count": 37,
   "metadata": {},
   "outputs": [
    {
     "name": "stdout",
     "output_type": "stream",
     "text": [
      "+-------------------------------------------------------------------------------------------------------------------------------+----------------------+--------------------+--------------------+------------------+------------+---------------------+----------------+----------------------------------------------------------------------------------------------------------------------------------------------------+\n",
      "|address_id                                                                                                                     |line_1_number_building|line_2_number_street|line_3_area_locality|city              |zip_postcode|state_province_county|iso_country_code|other_address_details                                                                                                                               |\n",
      "+-------------------------------------------------------------------------------------------------------------------------------+----------------------+--------------------+--------------------+------------------+------------+---------------------+----------------+----------------------------------------------------------------------------------------------------------------------------------------------------+\n",
      "|1                                                                                                                              |31782                 |Scott Mall          |port                |Jenniferburgh     |44168       |Alabama              |MD              |About environmental music language. Land defense suggest rather though poor others they. Year court oil have.                                       |\n",
      "|2                                                                                                                              |297                   |Cindy Courts        |stad                |New Timothyfort   |31081       |Oklahoma             |GR              |Success loss memory ago administration show. Foreign crime week medical.                                                                            |\n",
      "|Nor machine necessary make machine across science national. Sure control leave. Paper special single success.\"                 |NULL                  |NULL                |NULL                |NULL              |NULL        |NULL                 |NULL            |NULL                                                                                                                                                |\n",
      "|3                                                                                                                              |950                   |Taylor Ridge        |furt                |Emilychester      |42894       |Florida              |MK              |Ask media majority main land social they. Threat they education series. Film agency move poor prevent game rule. Market strategy seem economic firm.|\n",
      "|4                                                                                                                              |54769                 |Megan Forge         |ville               |South Brianburgh  |71868       |Maryland             |KR              |Strong happen drive themselves manager able hard. Trial pass alone bit fight. Red inside at especially.                                             |\n",
      "|Room person too international imagine avoid as simple. Model media evening care man.\"                                          |NULL                  |NULL                |NULL                |NULL              |NULL        |NULL                 |NULL            |NULL                                                                                                                                                |\n",
      "|5                                                                                                                              |528                   |Kim Plains          |borough             |Stephanieport     |97590       |New York             |BE              |Study officer process write inside. Gas let pick start.                                                                                             |\n",
      "|Few table effect him personal property. Huge billion he ground talk.                                                           |NULL                  |NULL                |NULL                |NULL              |NULL        |NULL                 |NULL            |NULL                                                                                                                                                |\n",
      "|Relate base difference. Join government population major industry would.\"                                                      |NULL                  |NULL                |NULL                |NULL              |NULL        |NULL                 |NULL            |NULL                                                                                                                                                |\n",
      "|6                                                                                                                              |83373                 |Alexander Freeway   |shire               |New Brandy        |76494       |Colorado             |UG              |Southern conference smile able. Everybody through themselves the behind religious player black. Despite prove wide quality car line some.           |\n",
      "|7                                                                                                                              |445                   |Joseph Square       |bury                |Port Jenniferburgh|58531       |Rhode Island         |GE              |Current box agency north. Practice season authority real surface.                                                                                   |\n",
      "|Model apply join onto glass individual reduce. Make produce concern including laugh major.\"                                    |NULL                  |NULL                |NULL                |NULL              |NULL        |NULL                 |NULL            |NULL                                                                                                                                                |\n",
      "|8                                                                                                                              |252                   |Bishop Track        |bury                |East Suzannestad  |86859       |Nebraska             |MW              |Late mean evening win whatever. Fact particular side few seven range.                                                                               |\n",
      "|Race store standard score test blue force debate. Will player necessary service ask. Card black finally author economy course.\"|NULL                  |NULL                |NULL                |NULL              |NULL        |NULL                 |NULL            |NULL                                                                                                                                                |\n",
      "|9                                                                                                                              |94611                 |Christopher Tunnel  |mouth               |Lake Nancyside    |85511       |Louisiana            |TL              |Short cold lay. Collection week born turn dinner air plant whatever. Company or one west expert.                                                    |\n",
      "|Rest population must receive finish tell. Him person particular authority wish wait.\"                                          |NULL                  |NULL                |NULL                |NULL              |NULL        |NULL                 |NULL            |NULL                                                                                                                                                |\n",
      "|10                                                                                                                             |76189                 |Brown Crescent      |chester             |South Matthewview |63457       |New York             |TM              |Record best modern win kid property edge. Push recent loss that war author soon game. Space paper would old return.                                 |\n",
      "|11                                                                                                                             |109                   |Green Garden        |shire               |Kevinhaven        |63165       |Indiana              |TJ              |Issue follow wind able matter research. Gun grow record show idea same camera PM. Assume office many two effort election mention.                   |\n",
      "|12                                                                                                                             |313                   |Jeanette Radial     |ton                 |Port Thomasfort   |41582       |Michigan             |LB              |Media nation young especially trial. Research glass relationship resource drop deal Mr. Beat town certainly beat have.                              |\n",
      "|Fill kitchen list still follow will traditional organization.\"                                                                 |NULL                  |NULL                |NULL                |NULL              |NULL        |NULL                 |NULL            |NULL                                                                                                                                                |\n",
      "+-------------------------------------------------------------------------------------------------------------------------------+----------------------+--------------------+--------------------+------------------+------------+---------------------+----------------+----------------------------------------------------------------------------------------------------------------------------------------------------+\n",
      "only showing top 20 rows\n",
      "\n"
     ]
    }
   ],
   "source": [
    "address_data_df = spark.read.format(\"csv\")\\\n",
    "                       .option(\"header\", True)\\\n",
    "                       .option(\"inferSchema\", True)\\\n",
    "                       .load('/Users/nightfury/Git/Pyspark Practice/data/addresses_data.csv')\n",
    "address_data_df.show(truncate=False)"
   ]
  },
  {
   "cell_type": "code",
   "execution_count": 39,
   "metadata": {},
   "outputs": [
    {
     "name": "stderr",
     "output_type": "stream",
     "text": [
      "24/04/29 20:42:24 WARN ParseMode: overwrite is not a valid parse mode. Using PERMISSIVE.\n"
     ]
    }
   ],
   "source": [
    "customer_data_df.write.format(\"csv\")\\\n",
    "                .option(\"header\", \"true\")\\\n",
    "                .option(\"mode\", \"overwrite\")\\\n",
    "                .option(\"path\", '/Users/nightfury/Git/Pyspark Practice/write_data/customers_data.csv')\\\n",
    "                .save()"
   ]
  },
  {
   "cell_type": "code",
   "execution_count": 41,
   "metadata": {},
   "outputs": [
    {
     "data": {
      "text/plain": [
       "['.part-00000-3e673f53-b06e-477d-b73f-7d1524f4238d-c000.csv.crc',\n",
       " '._SUCCESS.crc',\n",
       " 'part-00000-3e673f53-b06e-477d-b73f-7d1524f4238d-c000.csv',\n",
       " '_SUCCESS']"
      ]
     },
     "execution_count": 41,
     "metadata": {},
     "output_type": "execute_result"
    }
   ],
   "source": [
    "os.listdir(\"/Users/nightfury/Git/Pyspark Practice/write_data/customers_data.csv\")"
   ]
  },
  {
   "cell_type": "code",
   "execution_count": 42,
   "metadata": {},
   "outputs": [
    {
     "name": "stderr",
     "output_type": "stream",
     "text": [
      "24/04/29 20:45:50 WARN ParseMode: overwrite is not a valid parse mode. Using PERMISSIVE.\n"
     ]
    }
   ],
   "source": [
    "customer_data_df.repartition(5).write.format(\"csv\")\\\n",
    "                .option(\"header\", \"true\")\\\n",
    "                .option(\"mode\", \"overwrite\")\\\n",
    "                .option(\"path\", '/Users/nightfury/Git/Pyspark Practice/write_data/customers_data.csv')\\\n",
    "                .save()"
   ]
  }
 ],
 "metadata": {
  "kernelspec": {
   "display_name": "Python 3",
   "language": "python",
   "name": "python3"
  },
  "language_info": {
   "codemirror_mode": {
    "name": "ipython",
    "version": 3
   },
   "file_extension": ".py",
   "mimetype": "text/x-python",
   "name": "python",
   "nbconvert_exporter": "python",
   "pygments_lexer": "ipython3",
   "version": "3.11.7"
  }
 },
 "nbformat": 4,
 "nbformat_minor": 2
}
