{
 "cells": [
  {
   "cell_type": "code",
   "execution_count": 2,
   "metadata": {},
   "outputs": [],
   "source": [
    "from pyspark.sql import *\n",
    "import os\n",
    "\n",
    "spark = SparkSession.builder.appName(\"read csv\").getOrCreate()"
   ]
  },
  {
   "cell_type": "code",
   "execution_count": 3,
   "metadata": {},
   "outputs": [
    {
     "name": "stderr",
     "output_type": "stream",
     "text": [
      "24/02/26 19:36:26 WARN SparkStringUtils: Truncated the string representation of a plan since it was too large. This behavior can be adjusted by setting 'spark.sql.debug.maxToStringFields'.\n"
     ]
    },
    {
     "name": "stdout",
     "output_type": "stream",
     "text": [
      "+------------------+-----------+-----------------+------------+--------------+-------------+--------+------------+---------------+------+------+------+--------------+----------+---+------------------+---------------+---------+-----------+------------+---------+-------+--------------+---------------+----------+---------+------------------+-------------+------+---------+--------+----------+---------+------------+-----+-------+--------+-------+-------+-------+-------+----------+---------+----------+-----+-----------------+---------+-------+--------------+---------+----------+-----------+-----------+\n",
      "|              Name|Nationality|National_Position|National_Kit|          Club|Club_Position|Club_Kit|Club_Joining|Contract_Expiry|Rating|Height|Weight|Preffered_Foot|Birth_Date|Age|Preffered_Position|      Work_Rate|Weak_foot|Skill_Moves|Ball_Control|Dribbling|Marking|Sliding_Tackle|Standing_Tackle|Aggression|Reactions|Attacking_Position|Interceptions|Vision|Composure|Crossing|Short_Pass|Long_Pass|Acceleration|Speed|Stamina|Strength|Balance|Agility|Jumping|Heading|Shot_Power|Finishing|Long_Shots|Curve|Freekick_Accuracy|Penalties|Volleys|GK_Positioning|GK_Diving|GK_Kicking|GK_Handling|GK_Reflexes|\n",
      "+------------------+-----------+-----------------+------------+--------------+-------------+--------+------------+---------------+------+------+------+--------------+----------+---+------------------+---------------+---------+-----------+------------+---------+-------+--------------+---------------+----------+---------+------------------+-------------+------+---------+--------+----------+---------+------------+-----+-------+--------+-------+-------+-------+-------+----------+---------+----------+-----+-----------------+---------+-------+--------------+---------+----------+-----------+-----------+\n",
      "| Cristiano Ronaldo|   Portugal|               LS|         7.0|   Real Madrid|           LW|     7.0|  07/01/2009|         2021.0|    94|185 cm| 80 kg|         Right|02/05/1985| 32|             LW/ST|     High / Low|        4|          5|          93|       92|     22|            23|             31|        63|       96|                94|           29|    85|       86|      84|        83|       77|          91|   92|     92|      80|     63|     90|     95|     85|        92|       93|        90|   81|               76|       85|     88|            14|        7|        15|         11|         11|\n",
      "|      Lionel Messi|  Argentina|               RW|        10.0|  FC Barcelona|           RW|    10.0|  07/01/2004|         2018.0|    93|170 cm| 72 kg|          Left|06/24/1987| 29|                RW|Medium / Medium|        4|          4|          95|       97|     13|            26|             28|        48|       95|                93|           22|    90|       94|      77|        88|       87|          92|   87|     74|      59|     95|     90|     68|     71|        85|       95|        88|   89|               90|       74|     85|            14|        6|        15|         11|          8|\n",
      "|            Neymar|     Brazil|               LW|        10.0|  FC Barcelona|           LW|    11.0|  07/01/2013|         2021.0|    92|174 cm| 68 kg|         Right|02/05/1992| 25|                LW|  High / Medium|        5|          5|          95|       96|     21|            33|             24|        56|       88|                90|           36|    80|       80|      75|        81|       75|          93|   90|     79|      49|     82|     96|     61|     62|        78|       89|        77|   79|               84|       81|     83|            15|        9|        15|          9|         11|\n",
      "|       Luis Suárez|    Uruguay|               LS|         9.0|  FC Barcelona|           ST|     9.0|  07/11/2014|         2021.0|    92|182 cm| 85 kg|         Right|01/24/1987| 30|                ST|  High / Medium|        4|          4|          91|       86|     30|            38|             45|        78|       93|                92|           41|    84|       83|      77|        83|       64|          88|   77|     89|      76|     60|     86|     69|     77|        87|       94|        86|   86|               84|       85|     88|            33|       27|        31|         25|         37|\n",
      "|      Manuel Neuer|    Germany|               GK|         1.0|     FC Bayern|           GK|     1.0|  07/01/2011|         2021.0|    92|193 cm| 92 kg|         Right|03/27/1986| 31|                GK|Medium / Medium|        4|          1|          48|       30|     10|            11|             10|        29|       85|                12|           30|    70|       70|      15|        55|       59|          58|   61|     44|      83|     35|     52|     78|     25|        25|       13|        16|   14|               11|       47|     11|            91|       89|        95|         90|         89|\n",
      "|            De Gea|      Spain|               GK|         1.0|Manchester Utd|           GK|     1.0|  07/01/2011|         2019.0|    90|193 cm| 82 kg|         Right|11/07/1990| 26|                GK|Medium / Medium|        3|          1|          31|       13|     13|            13|             21|        38|       88|                12|           30|    68|       60|      17|        31|       32|          56|   56|     25|      64|     43|     57|     67|     21|        31|       13|        12|   21|               19|       40|     13|            86|       88|        87|         85|         90|\n",
      "|Robert Lewandowski|     Poland|               LS|         9.0|     FC Bayern|           ST|     9.0|  07/01/2014|         2021.0|    90|185 cm| 79 kg|         Right|08/21/1988| 28|                ST|  High / Medium|        4|          3|          87|       85|     25|            19|             42|        80|       88|                89|           39|    78|       87|      62|        83|       65|          79|   82|     79|      84|     79|     78|     84|     85|        86|       91|        82|   77|               76|       81|     86|             8|       15|        12|          6|         10|\n",
      "|       Gareth Bale|      Wales|               RS|        11.0|   Real Madrid|           RW|    11.0|  09/02/2013|         2022.0|    90|183 cm| 74 kg|          Left|07/16/1989| 27|                RW|  High / Medium|        3|          4|          88|       89|     51|            52|             55|        65|       87|                86|           59|    79|       85|      87|        86|       80|          93|   95|     78|      80|     65|     77|     85|     86|        91|       87|        90|   86|               85|       76|     76|             5|       15|        11|         15|          6|\n",
      "|Zlatan Ibrahimović|     Sweden|             NULL|        NULL|Manchester Utd|           ST|     9.0|  07/01/2016|         2017.0|    90|195 cm| 95 kg|         Right|10/03/1981| 35|                ST|   Medium / Low|        4|          4|          90|       87|     15|            27|             41|        84|       85|                86|           20|    83|       91|      76|        84|       76|          69|   74|     75|      93|     41|     86|     72|     80|        93|       90|        88|   82|               82|       91|     93|             9|       13|        10|         15|         12|\n",
      "|  Thibaut Courtois|    Belgium|               GK|         1.0|       Chelsea|           GK|    13.0|  07/26/2011|         2019.0|    89|199 cm| 91 kg|          Left|05/11/1992| 24|                GK|Medium / Medium|        3|          1|          23|       13|     11|            16|             18|        23|       81|                13|           15|    44|       52|      14|        32|       31|          46|   52|     38|      70|     45|     61|     68|     13|        36|       14|        17|   19|               11|       27|     12|            86|       84|        69|         91|         89|\n",
      "|    Jérôme Boateng|    Germany|              RCB|        17.0|     FC Bayern|          Sub|    17.0|  07/14/2011|         2021.0|    89|192 cm| 90 kg|         Right|09/03/1988| 28|                CB|Medium / Medium|        4|          2|          72|       67|     90|            91|             92|        82|       84|                47|           84|    76|       86|      69|        75|       80|          74|   81|     75|      91|     54|     58|     75|     86|        79|       34|        58|   56|               31|       46|     53|             6|        7|        15|         12|          5|\n",
      "|       Eden Hazard|    Belgium|               LF|        10.0|       Chelsea|           LW|    10.0|  07/01/2012|         2020.0|    89|173 cm| 74 kg|         Right|01/07/1991| 26|             LW/LM|  High / Medium|        4|          4|          91|       93|     25|            22|             27|        54|       85|                85|           41|    86|       86|      80|        84|       80|          93|   87|     77|      65|     90|     92|     59|     57|        79|       81|        82|   82|               79|       86|     79|             8|       11|         6|         12|          8|\n",
      "|       Luka Modrić|    Croatia|             NULL|        NULL|   Real Madrid|          RCM|    19.0|  08/01/2012|         2020.0|    89|174 cm| 65 kg|         Right|09/09/1985| 31|            CM/CDM|  High / Medium|        4|          4|          92|       86|     66|            73|             80|        62|       88|                79|           76|    90|       76|      78|        92|       83|          77|   71|     83|      58|     94|     93|     67|     55|        73|       71|        82|   79|               77|       80|     74|            14|       13|         7|          9|          9|\n",
      "|        Mesut Özil|    Germany|              CAM|        10.0|       Arsenal|          CAM|    11.0|  09/02/2013|         2018.0|    89|180 cm| 76 kg|          Left|10/15/1988| 28|            CAM/LW|   Medium / Low|        2|          4|          90|       86|     22|            19|             16|        48|       87|                84|           24|    93|       73|      82|        89|       84|          77|   68|     68|      56|     70|     84|     52|     54|        70|       75|        76|   84|               79|       67|     77|             6|        6|        10|         14|         14|\n",
      "|   Gonzalo Higuaín|  Argentina|              Sub|         9.0|      Juventus|           ST|     9.0|  07/26/2016|         2021.0|    89|184 cm| 92 kg|         Right|12/10/1987| 29|                ST|  High / Medium|        4|          3|          85|       84|     12|            18|             22|        50|       86|                92|           20|    70|       84|      68|        73|       59|          79|   81|     73|      85|     69|     75|     77|     80|        86|       92|        80|   74|               62|       70|     88|             5|        5|         7|         12|         10|\n",
      "+------------------+-----------+-----------------+------------+--------------+-------------+--------+------------+---------------+------+------+------+--------------+----------+---+------------------+---------------+---------+-----------+------------+---------+-------+--------------+---------------+----------+---------+------------------+-------------+------+---------+--------+----------+---------+------------+-----+-------+--------+-------+-------+-------+-------+----------+---------+----------+-----+-----------------+---------+-------+--------------+---------+----------+-----------+-----------+\n",
      "only showing top 15 rows\n",
      "\n"
     ]
    }
   ],
   "source": [
    "player_df = spark.read.csv(\"FullData.csv\", header=True, inferSchema=True)\n",
    "\n",
    "player_df.show(15)"
   ]
  },
  {
   "cell_type": "code",
   "execution_count": 6,
   "metadata": {},
   "outputs": [
    {
     "name": "stdout",
     "output_type": "stream",
     "text": [
      "+---------------+--------------------+\n",
      "|           Name|                 url|\n",
      "+---------------+--------------------+\n",
      "|      FC Bayern| /team/21/fc-bayern/|\n",
      "|    Real Madrid|/team/243/real-ma...|\n",
      "|   FC Barcelona|/team/241/fc-barc...|\n",
      "|       Juventus|  /team/45/juventus/|\n",
      "| Manchester Utd|/team/11/manchest...|\n",
      "|        Chelsea|    /team/5/chelsea/|\n",
      "|            PSG|       /team/73/psg/|\n",
      "|        Arsenal|    /team/1/arsenal/|\n",
      "|Atlético Madrid|/team/240/atl%C3%...|\n",
      "|Manchester City|/team/10/manchest...|\n",
      "|  Bor. Dortmund|/team/22/bor-dort...|\n",
      "|         Napoli|    /team/48/napoli/|\n",
      "|          Spurs|     /team/18/spurs/|\n",
      "|      Liverpool|  /team/9/liverpool/|\n",
      "|          Inter|     /team/44/inter/|\n",
      "+---------------+--------------------+\n",
      "only showing top 15 rows\n",
      "\n"
     ]
    }
   ],
   "source": [
    "club_df = spark.read.csv(path = \"ClubNames.csv\", header= True, inferSchema= True)\n",
    "club_df.show(15)"
   ]
  },
  {
   "cell_type": "code",
   "execution_count": 8,
   "metadata": {},
   "outputs": [
    {
     "name": "stdout",
     "output_type": "stream",
     "text": [
      "+------------------+--------------------+\n",
      "|              Name|                 url|\n",
      "+------------------+--------------------+\n",
      "| Cristiano Ronaldo|/player/20801/cri...|\n",
      "|      Lionel Messi|/player/158023/li...|\n",
      "|            Neymar|/player/190871/ne...|\n",
      "|       Luis Suárez|/player/176580/lu...|\n",
      "|      Manuel Neuer|/player/167495/ma...|\n",
      "|            De Gea|/player/193080/de...|\n",
      "|Robert Lewandowski|/player/188545/ro...|\n",
      "|       Gareth Bale|/player/173731/ga...|\n",
      "|Zlatan Ibrahimović|/player/41236/zla...|\n",
      "|  Thibaut Courtois|/player/192119/th...|\n",
      "|    Jérôme Boateng|/player/183907/j%...|\n",
      "|       Eden Hazard|/player/183277/ed...|\n",
      "|       Luka Modrić|/player/177003/lu...|\n",
      "|        Mesut Özil|/player/176635/me...|\n",
      "|   Gonzalo Higuaín|/player/167664/go...|\n",
      "|      Thiago Silva|/player/164240/th...|\n",
      "|      Sergio Ramos|/player/155862/se...|\n",
      "|     Sergio Agüero|/player/153079/se...|\n",
      "|        Paul Pogba|/player/195864/pa...|\n",
      "| Antoine Griezmann|/player/194765/an...|\n",
      "+------------------+--------------------+\n",
      "only showing top 20 rows\n",
      "\n"
     ]
    }
   ],
   "source": [
    "national_df = spark.read.csv(path=\"PlayerNames.csv\",header=True, inferSchema= True).show()"
   ]
  },
  {
   "cell_type": "code",
   "execution_count": 9,
   "metadata": {},
   "outputs": [
    {
     "name": "stdout",
     "output_type": "stream",
     "text": [
      "root\n",
      " |-- Name: string (nullable = true)\n",
      " |-- Nationality: string (nullable = true)\n",
      " |-- National_Position: string (nullable = true)\n",
      " |-- National_Kit: double (nullable = true)\n",
      " |-- Club: string (nullable = true)\n",
      " |-- Club_Position: string (nullable = true)\n",
      " |-- Club_Kit: double (nullable = true)\n",
      " |-- Club_Joining: string (nullable = true)\n",
      " |-- Contract_Expiry: double (nullable = true)\n",
      " |-- Rating: integer (nullable = true)\n",
      " |-- Height: string (nullable = true)\n",
      " |-- Weight: string (nullable = true)\n",
      " |-- Preffered_Foot: string (nullable = true)\n",
      " |-- Birth_Date: string (nullable = true)\n",
      " |-- Age: integer (nullable = true)\n",
      " |-- Preffered_Position: string (nullable = true)\n",
      " |-- Work_Rate: string (nullable = true)\n",
      " |-- Weak_foot: integer (nullable = true)\n",
      " |-- Skill_Moves: integer (nullable = true)\n",
      " |-- Ball_Control: integer (nullable = true)\n",
      " |-- Dribbling: integer (nullable = true)\n",
      " |-- Marking: integer (nullable = true)\n",
      " |-- Sliding_Tackle: integer (nullable = true)\n",
      " |-- Standing_Tackle: integer (nullable = true)\n",
      " |-- Aggression: integer (nullable = true)\n",
      " |-- Reactions: integer (nullable = true)\n",
      " |-- Attacking_Position: integer (nullable = true)\n",
      " |-- Interceptions: integer (nullable = true)\n",
      " |-- Vision: integer (nullable = true)\n",
      " |-- Composure: integer (nullable = true)\n",
      " |-- Crossing: integer (nullable = true)\n",
      " |-- Short_Pass: integer (nullable = true)\n",
      " |-- Long_Pass: integer (nullable = true)\n",
      " |-- Acceleration: integer (nullable = true)\n",
      " |-- Speed: integer (nullable = true)\n",
      " |-- Stamina: integer (nullable = true)\n",
      " |-- Strength: integer (nullable = true)\n",
      " |-- Balance: integer (nullable = true)\n",
      " |-- Agility: integer (nullable = true)\n",
      " |-- Jumping: integer (nullable = true)\n",
      " |-- Heading: integer (nullable = true)\n",
      " |-- Shot_Power: integer (nullable = true)\n",
      " |-- Finishing: integer (nullable = true)\n",
      " |-- Long_Shots: integer (nullable = true)\n",
      " |-- Curve: integer (nullable = true)\n",
      " |-- Freekick_Accuracy: integer (nullable = true)\n",
      " |-- Penalties: integer (nullable = true)\n",
      " |-- Volleys: integer (nullable = true)\n",
      " |-- GK_Positioning: integer (nullable = true)\n",
      " |-- GK_Diving: integer (nullable = true)\n",
      " |-- GK_Kicking: integer (nullable = true)\n",
      " |-- GK_Handling: integer (nullable = true)\n",
      " |-- GK_Reflexes: integer (nullable = true)\n",
      "\n"
     ]
    }
   ],
   "source": [
    "player_df.printSchema()"
   ]
  },
  {
   "cell_type": "code",
   "execution_count": 14,
   "metadata": {},
   "outputs": [
    {
     "data": {
      "text/plain": [
       "'/Users/nightfury/Git/DSA/Pyspark'"
      ]
     },
     "execution_count": 14,
     "metadata": {},
     "output_type": "execute_result"
    }
   ],
   "source": [
    "%pwd"
   ]
  }
 ],
 "metadata": {
  "kernelspec": {
   "display_name": "Python 3",
   "language": "python",
   "name": "python3"
  },
  "language_info": {
   "codemirror_mode": {
    "name": "ipython",
    "version": 3
   },
   "file_extension": ".py",
   "mimetype": "text/x-python",
   "name": "python",
   "nbconvert_exporter": "python",
   "pygments_lexer": "ipython3",
   "version": "3.11.7"
  }
 },
 "nbformat": 4,
 "nbformat_minor": 2
}
